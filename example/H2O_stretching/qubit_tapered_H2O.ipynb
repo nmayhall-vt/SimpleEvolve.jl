{
 "cells": [
  {
   "cell_type": "code",
   "execution_count": 15,
   "metadata": {},
   "outputs": [],
   "source": [
    "from ctypes import sizeof\n",
    "from tabnanny import verbose\n",
    "from qiskit_nature.second_q.drivers import PySCFDriver\n",
    "from qiskit_nature.second_q.mappers import JordanWignerMapper, ParityMapper\n",
    "from qiskit_nature.second_q.operators import PolynomialTensor\n",
    "from qiskit_nature.second_q.transformers import ActiveSpaceTransformer\n",
    "from pyscf.lo import Boys\n",
    "from pyscf.lo import PM\n",
    "from qiskit_nature.units import DistanceUnit\n",
    "import numpy as np  \n",
    "from pyscf.tools import molden"
   ]
  },
  {
   "cell_type": "code",
   "execution_count": 16,
   "metadata": {},
   "outputs": [],
   "source": [
    "fci_energies=[]\n",
    "fci_ecores=[]"
   ]
  },
  {
   "cell_type": "code",
   "execution_count": 17,
   "metadata": {},
   "outputs": [
    {
     "name": "stdout",
     "output_type": "stream",
     "text": [
      "(-25.783945226620094+0j)\n",
      "Core energy (ecore): {'nuclear_repulsion_energy': 11.867265893794634, 'ActiveSpaceTransformer': -61.927464875132756}\n",
      "(-25.290077647843813+0j)\n",
      "Core energy (ecore): {'nuclear_repulsion_energy': 11.11700322717542, 'ActiveSpaceTransformer': -61.74913765925405}\n",
      "(-24.846324574423075+0j)\n",
      "Core energy (ecore): {'nuclear_repulsion_energy': 10.4733659429331, 'ActiveSpaceTransformer': -61.5961236099196}\n",
      "(-24.424443456192037+0j)\n",
      "Core energy (ecore): {'nuclear_repulsion_energy': 9.884628662365518, 'ActiveSpaceTransformer': -61.45619379133461}\n",
      "(-24.040558551100254+0j)\n",
      "Core energy (ecore): {'nuclear_repulsion_energy': 9.365967122621306, 'ActiveSpaceTransformer': -61.3330069116534}\n",
      "(-23.684907470550762+0j)\n",
      "Core energy (ecore): {'nuclear_repulsion_energy': 8.898217339094849, 'ActiveSpaceTransformer': -61.221715136856275}\n",
      "(-23.0522646221075+0j)\n",
      "Core energy (ecore): {'nuclear_repulsion_energy': 8.090815015372788, 'ActiveSpaceTransformer': -61.02978141729595}\n",
      "(-22.506276274302856+0j)\n",
      "Core energy (ecore): {'nuclear_repulsion_energy': 7.4136579001308, 'ActiveSpaceTransformer': -60.86887417823692}\n",
      "(-22.039134229282276+0j)\n",
      "Core energy (ecore): {'nuclear_repulsion_energy': 6.844577407246112, 'ActiveSpaceTransformer': -60.73356951235904}\n",
      "(-21.634303229796963+0j)\n",
      "Core energy (ecore): {'nuclear_repulsion_energy': 6.356635086895833, 'ActiveSpaceTransformer': -60.61755152812596}\n",
      "(-21.281393777491033+0j)\n",
      "Core energy (ecore): {'nuclear_repulsion_energy': 5.933632946897317, 'ActiveSpaceTransformer': -60.51697019493396}\n",
      "(-20.970157320720084+0j)\n",
      "Core energy (ecore): {'nuclear_repulsion_energy': 5.561114632099584, 'ActiveSpaceTransformer': -60.42842896191695}\n",
      "(-20.69798158879089+0j)\n",
      "Core energy (ecore): {'nuclear_repulsion_energy': 5.234644477042531, 'ActiveSpaceTransformer': -60.35078458518108}\n",
      "(-20.457160527710293+0j)\n",
      "Core energy (ecore): {'nuclear_repulsion_energy': 4.944380229958727, 'ActiveSpaceTransformer': -60.28173964720402}\n",
      "(-20.143593851737506+7.680804131982973e-16j)\n",
      "Core energy (ecore): {'nuclear_repulsion_energy': 4.563051604830741, 'ActiveSpaceTransformer': -60.19100863326585}\n",
      "(-19.880176149373312+0j)\n",
      "Core energy (ecore): {'nuclear_repulsion_energy': 4.237847916050755, 'ActiveSpaceTransformer': -60.11363025148667}\n",
      "(-19.655540198756274+0j)\n",
      "Core energy (ecore): {'nuclear_repulsion_energy': 3.9557552979315456, 'ActiveSpaceTransformer': -60.046469488216026}\n",
      "(-19.460915841384992+0j)\n",
      "Core energy (ecore): {'nuclear_repulsion_energy': 3.707851077346201, 'ActiveSpaceTransformer': -59.98747477835133}\n",
      "(-19.30289142894834+1.835816103125301e-15j)\n",
      "Core energy (ecore): {'nuclear_repulsion_energy': 3.490215932786721, 'ActiveSpaceTransformer': -59.935899408128016}\n",
      "(-19.122960215936843+4.501049924019813e-19j)\n",
      "Core energy (ecore): {'nuclear_repulsion_energy': 3.2957943038692252, 'ActiveSpaceTransformer': -59.88943136091114}\n",
      "(-19.009897422744757+0j)\n",
      "Core energy (ecore): {'nuclear_repulsion_energy': 3.1227142701311177, 'ActiveSpaceTransformer': -59.84827629736134}\n",
      "(-18.889748996256568-2.2713285958689374e-17j)\n",
      "Core energy (ecore): {'nuclear_repulsion_energy': 2.9661620376812228, 'ActiveSpaceTransformer': -59.81103048853107}\n"
     ]
    }
   ],
   "source": [
    "dist_oh=0.96\n",
    "for dist_oh in [0.75,0.8,0.85, 0.9, 0.95, 1.0, 1.1, 1.2, 1.3, 1.4, 1.5, 1.6, 1.7, 1.8, 1.95, 2.1, 2.25, 2.4, 2.55,2.7, 2.85, 3.0]:\n",
    "\n",
    "        angle_hoh=104.5\n",
    "\n",
    "        # Calculate H positions\n",
    "        theta = np.radians(angle_hoh / 2)\n",
    "        x = dist_oh * np.cos(theta)\n",
    "        y = dist_oh * np.sin(theta)\n",
    "        \n",
    "        # Define H₂O geometry\n",
    "        atom = f\"\"\"O  0.0  0.0  0.0;H  {x:.3f}  {y:.3f}  0.0;H  {-x:.3f}  {y:.3f}  0.0\"\"\"\n",
    "        \n",
    "        # Set up driver and problem\n",
    "        driver = PySCFDriver(\n",
    "                atom=atom,\n",
    "                basis=\"cc-pvdz\",\n",
    "                charge=0,\n",
    "                spin=0,\n",
    "                unit=DistanceUnit.ANGSTROM\n",
    "        )\n",
    "        problem = driver.run()\n",
    "        # Active space: O 2p (2,3,4) and H 1s (5,6)\n",
    "        transformer = ActiveSpaceTransformer(\n",
    "                num_electrons=8,            # 4 (O 2p) + 2 (H 1s)\n",
    "                num_spatial_orbitals=6,     # 3 (O 2p) + 2 (H 1s)\n",
    "        )\n",
    "        problem_reduced = transformer.transform(problem)\n",
    "        \n",
    "        # Get Hamiltonian (already includes nuclear repulsion energy)\n",
    "        hamiltonian = problem_reduced.hamiltonian\n",
    "        fermionic_op = problem_reduced.hamiltonian.second_q_op()\n",
    "        mapper = JordanWignerMapper()\n",
    "        tapered_mapper = problem_reduced.get_tapered_mapper(mapper)\n",
    "        qubit_op = tapered_mapper.map(fermionic_op)\n",
    "        # print(qubit_op)\n",
    "        filename = f\"qubit_op_h2o_tapered_{dist_oh:.2f}.npy\"\n",
    "        np.save(filename, qubit_op)\n",
    "        eigenvalues, eigenvectors=np.linalg.eig(qubit_op.to_matrix())\n",
    "        print(np.min(eigenvalues))\n",
    "        fci_energies.append(np.min(eigenvalues))\n",
    "        ecore = problem_reduced.hamiltonian.constants\n",
    "        print(\"Core energy (ecore):\", ecore)    \n",
    "        fci_ecores.append(ecore)\n",
    "    \n"
   ]
  },
  {
   "cell_type": "code",
   "execution_count": 18,
   "metadata": {},
   "outputs": [
    {
     "name": "stdout",
     "output_type": "stream",
     "text": [
      "FCI energies: [(-25.783945226620094+0j), (-25.290077647843813+0j), (-24.846324574423075+0j), (-24.424443456192037+0j), (-24.040558551100254+0j), (-23.684907470550762+0j), (-23.0522646221075+0j), (-22.506276274302856+0j), (-22.039134229282276+0j), (-21.634303229796963+0j), (-21.281393777491033+0j), (-20.970157320720084+0j), (-20.69798158879089+0j), (-20.457160527710293+0j), (-20.143593851737506+7.680804131982973e-16j), (-19.880176149373312+0j), (-19.655540198756274+0j), (-19.460915841384992+0j), (-19.30289142894834+1.835816103125301e-15j), (-19.122960215936843+4.501049924019813e-19j), (-19.009897422744757+0j), (-18.889748996256568-2.2713285958689374e-17j)]\n",
      "FCI core energies: [{'nuclear_repulsion_energy': 11.867265893794634, 'ActiveSpaceTransformer': -61.927464875132756}, {'nuclear_repulsion_energy': 11.11700322717542, 'ActiveSpaceTransformer': -61.74913765925405}, {'nuclear_repulsion_energy': 10.4733659429331, 'ActiveSpaceTransformer': -61.5961236099196}, {'nuclear_repulsion_energy': 9.884628662365518, 'ActiveSpaceTransformer': -61.45619379133461}, {'nuclear_repulsion_energy': 9.365967122621306, 'ActiveSpaceTransformer': -61.3330069116534}, {'nuclear_repulsion_energy': 8.898217339094849, 'ActiveSpaceTransformer': -61.221715136856275}, {'nuclear_repulsion_energy': 8.090815015372788, 'ActiveSpaceTransformer': -61.02978141729595}, {'nuclear_repulsion_energy': 7.4136579001308, 'ActiveSpaceTransformer': -60.86887417823692}, {'nuclear_repulsion_energy': 6.844577407246112, 'ActiveSpaceTransformer': -60.73356951235904}, {'nuclear_repulsion_energy': 6.356635086895833, 'ActiveSpaceTransformer': -60.61755152812596}, {'nuclear_repulsion_energy': 5.933632946897317, 'ActiveSpaceTransformer': -60.51697019493396}, {'nuclear_repulsion_energy': 5.561114632099584, 'ActiveSpaceTransformer': -60.42842896191695}, {'nuclear_repulsion_energy': 5.234644477042531, 'ActiveSpaceTransformer': -60.35078458518108}, {'nuclear_repulsion_energy': 4.944380229958727, 'ActiveSpaceTransformer': -60.28173964720402}, {'nuclear_repulsion_energy': 4.563051604830741, 'ActiveSpaceTransformer': -60.19100863326585}, {'nuclear_repulsion_energy': 4.237847916050755, 'ActiveSpaceTransformer': -60.11363025148667}, {'nuclear_repulsion_energy': 3.9557552979315456, 'ActiveSpaceTransformer': -60.046469488216026}, {'nuclear_repulsion_energy': 3.707851077346201, 'ActiveSpaceTransformer': -59.98747477835133}, {'nuclear_repulsion_energy': 3.490215932786721, 'ActiveSpaceTransformer': -59.935899408128016}, {'nuclear_repulsion_energy': 3.2957943038692252, 'ActiveSpaceTransformer': -59.88943136091114}, {'nuclear_repulsion_energy': 3.1227142701311177, 'ActiveSpaceTransformer': -59.84827629736134}, {'nuclear_repulsion_energy': 2.9661620376812228, 'ActiveSpaceTransformer': -59.81103048853107}]\n"
     ]
    }
   ],
   "source": [
    "print(\"FCI energies:\", fci_energies)\n",
    "print(\"FCI core energies:\", fci_ecores)"
   ]
  },
  {
   "cell_type": "code",
   "execution_count": 19,
   "metadata": {},
   "outputs": [
    {
     "name": "stdout",
     "output_type": "stream",
     "text": [
      "FCI total energies: [-75.84414420795821, -75.92221207992245, -75.96908224140958, -75.99600858516114, -76.00759834013235, -76.00840526831219, -75.99123102403067, -75.96149255240897, -75.9281263343952, -75.89521967102709, -75.86473102552768, -75.83747165053745, -75.81412169692943, -75.79451994495558, -75.77155088017261, -75.75595848480923, -75.74625438904076, -75.74053954239012, -75.74857490428963, -75.71659727297876, -75.73545944997498, -75.73461744710642]\n",
      "(22,)\n",
      "(22,)\n"
     ]
    }
   ],
   "source": [
    "import matplotlib.pyplot as plt\n",
    "\n",
    "fci_total = []\n",
    "for i in range(len(fci_energies)):\n",
    "    # Extract core energies from dictionary\n",
    "    nuclear_repulsion = fci_ecores[i]['nuclear_repulsion_energy']\n",
    "    core_correction = fci_ecores[i]['ActiveSpaceTransformer']\n",
    "    # Add all contributions to get total energy\n",
    "    fci_energies_tot = fci_energies[i].real + nuclear_repulsion + core_correction\n",
    "    fci_total.append(fci_energies_tot)\n",
    "\n",
    "print(\"FCI total energies:\", fci_total)\n",
    "print(np.shape(fci_total))\n",
    "\n",
    "distance=[0.75,0.8,0.85, 0.9, 0.95, 1.0, 1.1, 1.2, 1.3, 1.4, 1.5, 1.6, 1.7, 1.8, 1.95, 2.1, 2.25, 2.4, 2.55,2.7, 2.85, 3.0]\n",
    "print(np.shape(distance))"
   ]
  },
  {
   "cell_type": "code",
   "execution_count": 20,
   "metadata": {},
   "outputs": [
    {
     "data": {
      "text/plain": [
       "[<matplotlib.lines.Line2D at 0x323a08790>]"
      ]
     },
     "execution_count": 20,
     "metadata": {},
     "output_type": "execute_result"
    },
    {
     "data": {
      "image/png": "[encoded data removed]",
      "text/plain": [
       "<Figure size 640x480 with 1 Axes>"
      ]
     },
     "metadata": {},
     "output_type": "display_data"
    }
   ],
   "source": [
    "plt.plot(distance, fci_total, marker='o', label='FCI Total Energy')"
   ]
  },
  {
   "cell_type": "code",
   "execution_count": null,
   "metadata": {},
   "outputs": [],
   "source": []
  }
 ],
 "metadata": {
  "kernelspec": {
   "display_name": ".venv",
   "language": "python",
   "name": "python3"
  },
  "language_info": {
   "codemirror_mode": {
    "name": "ipython",
    "version": 3
   },
   "file_extension": ".py",
   "mimetype": "text/x-python",
   "name": "python",
   "nbconvert_exporter": "python",
   "pygments_lexer": "ipython3",
   "version": "3.9.6"
  }
 },
 "nbformat": 4,
 "nbformat_minor": 2
}
