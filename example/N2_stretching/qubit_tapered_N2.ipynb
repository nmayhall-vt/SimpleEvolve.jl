{
 "cells": [
  {
   "cell_type": "code",
   "execution_count": 1,
   "metadata": {},
   "outputs": [
    {
     "name": "stderr",
     "output_type": "stream",
     "text": [
      "/Users/arnab/arnab/workspace/.venv/lib/python3.9/site-packages/pyscf/dft/libxc.py:771: UserWarning: Since PySCF-2.3, B3LYP (and B3P86) are changed to the VWN-RPA variant, corresponding to the original definition by Stephens et al. (issue 1480) and the same as the B3LYP functional in Gaussian. To restore the VWN5 definition, you can put the setting \"B3LYP_WITH_VWN5 = True\" in pyscf_conf.py\n",
      "  warnings.warn('Since PySCF-2.3, B3LYP (and B3P86) are changed to the VWN-RPA variant, '\n"
     ]
    }
   ],
   "source": [
    "from ctypes import sizeof\n",
    "from tabnanny import verbose\n",
    "from qiskit_nature.second_q.drivers import PySCFDriver\n",
    "from qiskit_nature.second_q.mappers import JordanWignerMapper, ParityMapper\n",
    "from qiskit_nature.second_q.operators import PolynomialTensor\n",
    "from qiskit_nature.second_q.transformers import ActiveSpaceTransformer\n",
    "from pyscf.lo import Boys\n",
    "from pyscf.lo import PM\n",
    "from qiskit_nature.units import DistanceUnit\n",
    "import numpy as np  \n",
    "from pyscf.tools import molden"
   ]
  },
  {
   "cell_type": "code",
   "execution_count": 2,
   "metadata": {},
   "outputs": [],
   "source": [
    "fci_energies=[]\n",
    "fci_ecores=[]"
   ]
  },
  {
   "cell_type": "code",
   "execution_count": 3,
   "metadata": {},
   "outputs": [
    {
     "name": "stdout",
     "output_type": "stream",
     "text": [
      "(-12.304373761771963+0j)\n",
      "Core energy (ecore): {'nuclear_repulsion_energy': 34.57291111344, 'ActiveSpaceTransformer': -130.36039913759737}\n",
      "(-12.105103424865952+9.497589499006877e-30j)\n",
      "Core energy (ecore): {'nuclear_repulsion_energy': 32.41210416885001, 'ActiveSpaceTransformer': -128.72854203006398}\n",
      "(-11.93149614564531+0j)\n",
      "Core energy (ecore): {'nuclear_repulsion_energy': 30.505509805976477, 'ActiveSpaceTransformer': -127.22330309133942}\n",
      "(-11.77888967525061+0j)\n",
      "Core energy (ecore): {'nuclear_repulsion_energy': 28.810759261199998, 'ActiveSpaceTransformer': -125.83358519023986}\n",
      "(-12.208152454434359+0j)\n",
      "Core energy (ecore): {'nuclear_repulsion_energy': 27.29440351061053, 'ActiveSpaceTransformer': -124.00572335055763}\n",
      "(-11.936056100805372+0j)\n",
      "Core energy (ecore): {'nuclear_repulsion_energy': 25.929683335080004, 'ActiveSpaceTransformer': -122.97382805620114}\n",
      "(-11.464510823575438+0j)\n",
      "Core energy (ecore): {'nuclear_repulsion_energy': 23.572439395527272, 'ActiveSpaceTransformer': -121.1298335672692}\n",
      "(-11.070803213947075+0j)\n",
      "Core energy (ecore): {'nuclear_repulsion_energy': 21.6080694459, 'ActiveSpaceTransformer': -119.54194673200016}\n",
      "(-10.73773025647078-4.2710538538880553e-29j)\n",
      "Core energy (ecore): {'nuclear_repulsion_energy': 19.945910257753848, 'ActiveSpaceTransformer': -118.17213452351672}\n",
      "(-10.450117261561765+0j)\n",
      "Core energy (ecore): {'nuclear_repulsion_energy': 18.521202382200002, 'ActiveSpaceTransformer': -116.98764637264999}\n",
      "(-10.19659673392562+2.5260552617719677e-29j)\n",
      "Core energy (ecore): {'nuclear_repulsion_energy': 17.28645555672, 'ActiveSpaceTransformer': -115.95975264224231}\n",
      "(-9.971013101911025+0j)\n",
      "Core energy (ecore): {'nuclear_repulsion_energy': 16.206052084425004, 'ActiveSpaceTransformer': -115.06327653130316}\n",
      "(-9.770196733275203+0j)\n",
      "Core energy (ecore): {'nuclear_repulsion_energy': 15.252754902988238, 'ActiveSpaceTransformer': -114.276575126405}\n",
      "(-9.59225027266333+0j)\n",
      "Core energy (ecore): {'nuclear_repulsion_energy': 14.405379630599999, 'ActiveSpaceTransformer': -113.58147565203993}\n",
      "(-9.364157057551477+0j)\n",
      "Core energy (ecore): {'nuclear_repulsion_energy': 13.297273505169231, 'ActiveSpaceTransformer': -112.67849376668939}\n",
      "(-9.174722897063953+0j)\n",
      "Core energy (ecore): {'nuclear_repulsion_energy': 12.347468254799999, 'ActiveSpaceTransformer': -111.90888429618536}\n",
      "(-9.01421615647944+0j)\n",
      "Core energy (ecore): {'nuclear_repulsion_energy': 11.524303704480001, 'ActiveSpaceTransformer': -111.24384582742114}\n",
      "(-8.875304412870689+2.434847666625116e-16j)\n",
      "Core energy (ecore): {'nuclear_repulsion_energy': 10.80403472295, 'ActiveSpaceTransformer': -110.66253553026972}\n",
      "(-8.753318220886934+0j)\n",
      "Core energy (ecore): {'nuclear_repulsion_energy': 10.168503268658824, 'ActiveSpaceTransformer': -110.14959498500208}\n",
      "(-8.645232531818102+2.684664096667638e-16j)\n",
      "Core energy (ecore): {'nuclear_repulsion_energy': 9.6035864204, 'ActiveSpaceTransformer': -109.6933472367425}\n",
      "(-8.548904981968835+0j)\n",
      "Core energy (ecore): {'nuclear_repulsion_energy': 9.098134503536842, 'ActiveSpaceTransformer': -109.28466443869272}\n",
      "(-8.462838292927273+0j)\n",
      "Core energy (ecore): {'nuclear_repulsion_energy': 8.64322777836, 'ActiveSpaceTransformer': -108.91628658074131}\n"
     ]
    }
   ],
   "source": [
    "\n",
    "for dist in [0.75,0.8,0.85, 0.9, 0.95, 1.0, 1.1, 1.2, 1.3, 1.4, 1.5, 1.6, 1.7, 1.8, 1.95, 2.1, 2.25, 2.4, 2.55,2.7, 2.85, 3.0]:\n",
    "\n",
    "        atom = f\"\"\"N  0.0  0.0  0.0;N  {dist} 0.0  0.0\"\"\"\n",
    "        \n",
    "        # Set up driver and problem\n",
    "        driver = PySCFDriver(\n",
    "                atom=atom,\n",
    "                basis=\"cc-pvdz\",\n",
    "                charge=0,\n",
    "                spin=0,\n",
    "                unit=DistanceUnit.ANGSTROM\n",
    "        )\n",
    "        problem = driver.run()\n",
    "        \n",
    "        transformer = ActiveSpaceTransformer(\n",
    "                num_electrons=6,           \n",
    "                num_spatial_orbitals=6,    \n",
    "        )\n",
    "        problem_reduced = transformer.transform(problem)\n",
    "        \n",
    "        # Get Hamiltonian (already includes nuclear repulsion energy)\n",
    "        hamiltonian = problem_reduced.hamiltonian\n",
    "        fermionic_op = problem_reduced.hamiltonian.second_q_op()\n",
    "        mapper = JordanWignerMapper()\n",
    "        tapered_mapper = problem_reduced.get_tapered_mapper(mapper)\n",
    "        qubit_op = tapered_mapper.map(fermionic_op)\n",
    "        # print(qubit_op)\n",
    "        filename = f\"qubit_op_N2_tapered_{dist:.2f}.npy\"\n",
    "        np.save(filename, qubit_op)\n",
    "        eigenvalues, eigenvectors=np.linalg.eig(qubit_op.to_matrix())\n",
    "        print(np.min(eigenvalues))\n",
    "        fci_energies.append(np.min(eigenvalues))\n",
    "        ecore = problem_reduced.hamiltonian.constants\n",
    "        print(\"Core energy (ecore):\", ecore)    \n",
    "        fci_ecores.append(ecore)\n",
    "    \n"
   ]
  },
  {
   "cell_type": "code",
   "execution_count": 4,
   "metadata": {},
   "outputs": [
    {
     "name": "stdout",
     "output_type": "stream",
     "text": [
      "FCI energies: [(-12.304373761771963+0j), (-12.105103424865952+9.497589499006877e-30j), (-11.93149614564531+0j), (-11.77888967525061+0j), (-12.208152454434359+0j), (-11.936056100805372+0j), (-11.464510823575438+0j), (-11.070803213947075+0j), (-10.73773025647078-4.2710538538880553e-29j), (-10.450117261561765+0j), (-10.19659673392562+2.5260552617719677e-29j), (-9.971013101911025+0j), (-9.770196733275203+0j), (-9.59225027266333+0j), (-9.364157057551477+0j), (-9.174722897063953+0j), (-9.01421615647944+0j), (-8.875304412870689+2.434847666625116e-16j), (-8.753318220886934+0j), (-8.645232531818102+2.684664096667638e-16j), (-8.548904981968835+0j), (-8.462838292927273+0j)]\n",
      "FCI core energies: [{'nuclear_repulsion_energy': 34.57291111344, 'ActiveSpaceTransformer': -130.36039913759737}, {'nuclear_repulsion_energy': 32.41210416885001, 'ActiveSpaceTransformer': -128.72854203006398}, {'nuclear_repulsion_energy': 30.505509805976477, 'ActiveSpaceTransformer': -127.22330309133942}, {'nuclear_repulsion_energy': 28.810759261199998, 'ActiveSpaceTransformer': -125.83358519023986}, {'nuclear_repulsion_energy': 27.29440351061053, 'ActiveSpaceTransformer': -124.00572335055763}, {'nuclear_repulsion_energy': 25.929683335080004, 'ActiveSpaceTransformer': -122.97382805620114}, {'nuclear_repulsion_energy': 23.572439395527272, 'ActiveSpaceTransformer': -121.1298335672692}, {'nuclear_repulsion_energy': 21.6080694459, 'ActiveSpaceTransformer': -119.54194673200016}, {'nuclear_repulsion_energy': 19.945910257753848, 'ActiveSpaceTransformer': -118.17213452351672}, {'nuclear_repulsion_energy': 18.521202382200002, 'ActiveSpaceTransformer': -116.98764637264999}, {'nuclear_repulsion_energy': 17.28645555672, 'ActiveSpaceTransformer': -115.95975264224231}, {'nuclear_repulsion_energy': 16.206052084425004, 'ActiveSpaceTransformer': -115.06327653130316}, {'nuclear_repulsion_energy': 15.252754902988238, 'ActiveSpaceTransformer': -114.276575126405}, {'nuclear_repulsion_energy': 14.405379630599999, 'ActiveSpaceTransformer': -113.58147565203993}, {'nuclear_repulsion_energy': 13.297273505169231, 'ActiveSpaceTransformer': -112.67849376668939}, {'nuclear_repulsion_energy': 12.347468254799999, 'ActiveSpaceTransformer': -111.90888429618536}, {'nuclear_repulsion_energy': 11.524303704480001, 'ActiveSpaceTransformer': -111.24384582742114}, {'nuclear_repulsion_energy': 10.80403472295, 'ActiveSpaceTransformer': -110.66253553026972}, {'nuclear_repulsion_energy': 10.168503268658824, 'ActiveSpaceTransformer': -110.14959498500208}, {'nuclear_repulsion_energy': 9.6035864204, 'ActiveSpaceTransformer': -109.6933472367425}, {'nuclear_repulsion_energy': 9.098134503536842, 'ActiveSpaceTransformer': -109.28466443869272}, {'nuclear_repulsion_energy': 8.64322777836, 'ActiveSpaceTransformer': -108.91628658074131}]\n"
     ]
    }
   ],
   "source": [
    "print(\"FCI energies:\", fci_energies)\n",
    "print(\"FCI core energies:\", fci_ecores)"
   ]
  },
  {
   "cell_type": "code",
   "execution_count": 5,
   "metadata": {},
   "outputs": [
    {
     "name": "stdout",
     "output_type": "stream",
     "text": [
      "FCI total energies: [-108.09186178592932, -108.42154128607993, -108.64928943100824, -108.80171560429048, -108.91947229438146, -108.98020082192652, -109.02190499531737, -109.00468050004723, -108.96395452223365, -108.91656125201175, -108.86989381944792, -108.82823754878918, -108.79401695669198, -108.76834629410325, -108.74537731907164, -108.73613893844932, -108.73375827942058, -108.7338052201904, -108.7344099372302, -108.7349933481606, -108.7354349171247, -108.73589709530859]\n"
     ]
    }
   ],
   "source": [
    "import matplotlib.pyplot as plt\n",
    "\n",
    "fci_total = []\n",
    "for i in range(len(fci_energies)):\n",
    "    # Extract core energies from dictionary\n",
    "    nuclear_repulsion = fci_ecores[i]['nuclear_repulsion_energy']\n",
    "    core_correction = fci_ecores[i]['ActiveSpaceTransformer']\n",
    "    # Add all contributions to get total energy\n",
    "    fci_energies_tot = fci_energies[i].real + nuclear_repulsion + core_correction\n",
    "    fci_total.append(fci_energies_tot)\n",
    "\n",
    "print(\"FCI total energies:\", fci_total)\n",
    "\n",
    "distance=[0.75,0.8,0.85, 0.9, 0.95, 1.0, 1.1, 1.2, 1.3, 1.4, 1.5, 1.6, 1.7, 1.8, 1.95, 2.1, 2.25, 2.4, 2.55,2.7, 2.85, 3.0]"
   ]
  },
  {
   "cell_type": "code",
   "execution_count": 6,
   "metadata": {},
   "outputs": [
    {
     "data": {
      "text/plain": [
       "[<matplotlib.lines.Line2D at 0x322758970>]"
      ]
     },
     "execution_count": 6,
     "metadata": {},
     "output_type": "execute_result"
    },
    {
     "data": {
      "image/png": "[encoded data removed]",
      "text/plain": [
       "<Figure size 640x480 with 1 Axes>"
      ]
     },
     "metadata": {},
     "output_type": "display_data"
    }
   ],
   "source": [
    "plt.plot(distance, fci_total, marker='o', label='FCI Total Energy')"
   ]
  },
  {
   "cell_type": "code",
   "execution_count": null,
   "metadata": {},
   "outputs": [],
   "source": []
  }
 ],
 "metadata": {
  "kernelspec": {
   "display_name": ".venv",
   "language": "python",
   "name": "python3"
  },
  "language_info": {
   "codemirror_mode": {
    "name": "ipython",
    "version": 3
   },
   "file_extension": ".py",
   "mimetype": "text/x-python",
   "name": "python",
   "nbconvert_exporter": "python",
   "pygments_lexer": "ipython3",
   "version": "3.9.6"
  }
 },
 "nbformat": 4,
 "nbformat_minor": 2
}
