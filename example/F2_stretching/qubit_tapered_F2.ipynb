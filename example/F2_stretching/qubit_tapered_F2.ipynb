{
 "cells": [
  {
   "cell_type": "code",
   "execution_count": 1,
   "metadata": {},
   "outputs": [
    {
     "name": "stderr",
     "output_type": "stream",
     "text": [
      "/Users/arnab/arnab/workspace/.venv/lib/python3.9/site-packages/pyscf/dft/libxc.py:771: UserWarning: Since PySCF-2.3, B3LYP (and B3P86) are changed to the VWN-RPA variant, corresponding to the original definition by Stephens et al. (issue 1480) and the same as the B3LYP functional in Gaussian. To restore the VWN5 definition, you can put the setting \"B3LYP_WITH_VWN5 = True\" in pyscf_conf.py\n",
      "  warnings.warn('Since PySCF-2.3, B3LYP (and B3P86) are changed to the VWN-RPA variant, '\n"
     ]
    }
   ],
   "source": [
    "from ctypes import sizeof\n",
    "from tabnanny import verbose\n",
    "from qiskit_nature.second_q.drivers import PySCFDriver\n",
    "from qiskit_nature.second_q.mappers import JordanWignerMapper, ParityMapper\n",
    "from qiskit_nature.second_q.operators import PolynomialTensor\n",
    "from qiskit_nature.second_q.transformers import ActiveSpaceTransformer\n",
    "from pyscf.lo import Boys\n",
    "from pyscf.lo import PM\n",
    "from qiskit_nature.units import DistanceUnit\n",
    "import numpy as np  \n",
    "from pyscf.tools import molden"
   ]
  },
  {
   "cell_type": "code",
   "execution_count": 2,
   "metadata": {},
   "outputs": [],
   "source": [
    "fci_energies=[]\n",
    "fci_ecores=[]"
   ]
  },
  {
   "cell_type": "code",
   "execution_count": 3,
   "metadata": {},
   "outputs": [
    {
     "name": "stdout",
     "output_type": "stream",
     "text": [
      "(-38.11671361250568+0j)\n",
      "Core energy (ecore): {'nuclear_repulsion_energy': 57.15113877936, 'ActiveSpaceTransformer': -216.160302740801}\n",
      "(-38.71693734867731-3.944301927901306e-31j)\n",
      "Core energy (ecore): {'nuclear_repulsion_energy': 53.57919260564999, 'ActiveSpaceTransformer': -212.44635816062296}\n",
      "(-38.06625997157807+0j)\n",
      "Core energy (ecore): {'nuclear_repulsion_energy': 50.427475393552946, 'ActiveSpaceTransformer': -210.2764530783138}\n",
      "(-37.46995402756953+0j)\n",
      "Core energy (ecore): {'nuclear_repulsion_energy': 47.6259489828, 'ActiveSpaceTransformer': -208.3104263589228}\n",
      "(-36.919342922264896+1.3491747244960862e-16j)\n",
      "Core energy (ecore): {'nuclear_repulsion_energy': 45.11932008896842, 'ActiveSpaceTransformer': -206.52724395529717}\n",
      "(-36.40735907765483+1.675555028519049e-15j)\n",
      "Core energy (ecore): {'nuclear_repulsion_energy': 42.863354084520005, 'ActiveSpaceTransformer': -204.9082221381748}\n",
      "(-35.47768137720239+1.7319426281784695e-15j)\n",
      "Core energy (ecore): {'nuclear_repulsion_energy': 38.96668553138181, 'ActiveSpaceTransformer': -202.096586322166}\n",
      "(-34.64951883239394+0j)\n",
      "Core energy (ecore): {'nuclear_repulsion_energy': 35.719461737100005, 'ActiveSpaceTransformer': -199.7573592431154}\n",
      "(-33.90534113790184+0j)\n",
      "Core energy (ecore): {'nuclear_repulsion_energy': 32.971810834246156, 'ActiveSpaceTransformer': -197.79326468980761}\n",
      "(-33.23465195519002+0j)\n",
      "Core energy (ecore): {'nuclear_repulsion_energy': 30.616681488942863, 'ActiveSpaceTransformer': -196.12623990276532}\n",
      "(-32.63060258326116+0j)\n",
      "Core energy (ecore): {'nuclear_repulsion_energy': 28.57556938968, 'ActiveSpaceTransformer': -194.69465678401616}\n",
      "(-32.08770381561204+0j)\n",
      "Core energy (ecore): {'nuclear_repulsion_energy': 26.789596302824997, 'ActiveSpaceTransformer': -193.45079320607337}\n",
      "(-31.600349334873233+0j)\n",
      "Core energy (ecore): {'nuclear_repulsion_energy': 25.213737696776473, 'ActiveSpaceTransformer': -192.35852941162437}\n",
      "(-31.16262286472037-2.6388913224016684e-33j)\n",
      "Core energy (ecore): {'nuclear_repulsion_energy': 23.8129744914, 'ActiveSpaceTransformer': -191.39069276870836}\n",
      "(-30.58648965286224+0j)\n",
      "Core energy (ecore): {'nuclear_repulsion_energy': 21.981207222830772, 'ActiveSpaceTransformer': -190.12815011325154}\n",
      "(-30.091575266521115+1.645155874487199e-23j)\n",
      "Core energy (ecore): {'nuclear_repulsion_energy': 20.41112099262857, 'ActiveSpaceTransformer': -189.04773382391056}\n",
      "(-29.66347130300154+0j)\n",
      "Core energy (ecore): {'nuclear_repulsion_energy': 19.050379593120002, 'ActiveSpaceTransformer': -188.11179637701977}\n",
      "(-29.290504844269943+0j)\n",
      "Core energy (ecore): {'nuclear_repulsion_energy': 17.859730868550002, 'ActiveSpaceTransformer': -187.29241326091665}\n",
      "(-28.96316924237902+0j)\n",
      "Core energy (ecore): {'nuclear_repulsion_energy': 16.80915846451765, 'ActiveSpaceTransformer': -186.56853854347258}\n",
      "(-28.6736848181768+0j)\n",
      "Core energy (ecore): {'nuclear_repulsion_energy': 15.875316327599997, 'ActiveSpaceTransformer': -185.9241226947416}\n",
      "(-28.415716484048893+0j)\n",
      "Core energy (ecore): {'nuclear_repulsion_energy': 15.039773362989475, 'ActiveSpaceTransformer': -185.34673998513264}\n",
      "(-28.184161145302085+0j)\n",
      "Core energy (ecore): {'nuclear_repulsion_energy': 14.28778469484, 'ActiveSpaceTransformer': -184.82656885388622}\n"
     ]
    }
   ],
   "source": [
    "\n",
    "for dist in [0.75,0.8,0.85, 0.9, 0.95, 1.0, 1.1, 1.2, 1.3, 1.4, 1.5, 1.6, 1.7, 1.8, 1.95, 2.1, 2.25, 2.4, 2.55,2.7, 2.85, 3.0]:\n",
    "\n",
    "        atom = f\"\"\"F  0.0  0.0  0.0;F  {dist} 0.0  0.0\"\"\"\n",
    "        \n",
    "        # Set up driver and problem\n",
    "        driver = PySCFDriver(\n",
    "                atom=atom,\n",
    "                basis=\"cc-pvdz\",\n",
    "                charge=0,\n",
    "                spin=0,\n",
    "                unit=DistanceUnit.ANGSTROM\n",
    "        )\n",
    "        problem = driver.run()\n",
    "        \n",
    "        transformer = ActiveSpaceTransformer(\n",
    "                num_electrons=10,           \n",
    "                num_spatial_orbitals=6,    \n",
    "        )\n",
    "        problem_reduced = transformer.transform(problem)\n",
    "        \n",
    "        # Get Hamiltonian (already includes nuclear repulsion energy)\n",
    "        hamiltonian = problem_reduced.hamiltonian\n",
    "        fermionic_op = problem_reduced.hamiltonian.second_q_op()\n",
    "        mapper = JordanWignerMapper()\n",
    "        tapered_mapper = problem_reduced.get_tapered_mapper(mapper)\n",
    "        qubit_op = tapered_mapper.map(fermionic_op)\n",
    "        # print(qubit_op)\n",
    "        filename = f\"qubit_op_F2_tapered_{dist:.2f}.npy\"\n",
    "        np.save(filename, qubit_op)\n",
    "        eigenvalues, eigenvectors=np.linalg.eig(qubit_op.to_matrix())\n",
    "        print(np.min(eigenvalues))\n",
    "        fci_energies.append(np.min(eigenvalues))\n",
    "        ecore = problem_reduced.hamiltonian.constants\n",
    "        print(\"Core energy (ecore):\", ecore)    \n",
    "        fci_ecores.append(ecore)\n",
    "    \n"
   ]
  },
  {
   "cell_type": "code",
   "execution_count": 4,
   "metadata": {},
   "outputs": [
    {
     "name": "stdout",
     "output_type": "stream",
     "text": [
      "FCI energies: [(-38.11671361250568+0j), (-38.71693734867731-3.944301927901306e-31j), (-38.06625997157807+0j), (-37.46995402756953+0j), (-36.919342922264896+1.3491747244960862e-16j), (-36.40735907765483+1.675555028519049e-15j), (-35.47768137720239+1.7319426281784695e-15j), (-34.64951883239394+0j), (-33.90534113790184+0j), (-33.23465195519002+0j), (-32.63060258326116+0j), (-32.08770381561204+0j), (-31.600349334873233+0j), (-31.16262286472037-2.6388913224016684e-33j), (-30.58648965286224+0j), (-30.091575266521115+1.645155874487199e-23j), (-29.66347130300154+0j), (-29.290504844269943+0j), (-28.96316924237902+0j), (-28.6736848181768+0j), (-28.415716484048893+0j), (-28.184161145302085+0j)]\n",
      "FCI core energies: [{'nuclear_repulsion_energy': 57.15113877936, 'ActiveSpaceTransformer': -216.160302740801}, {'nuclear_repulsion_energy': 53.57919260564999, 'ActiveSpaceTransformer': -212.44635816062296}, {'nuclear_repulsion_energy': 50.427475393552946, 'ActiveSpaceTransformer': -210.2764530783138}, {'nuclear_repulsion_energy': 47.6259489828, 'ActiveSpaceTransformer': -208.3104263589228}, {'nuclear_repulsion_energy': 45.11932008896842, 'ActiveSpaceTransformer': -206.52724395529717}, {'nuclear_repulsion_energy': 42.863354084520005, 'ActiveSpaceTransformer': -204.9082221381748}, {'nuclear_repulsion_energy': 38.96668553138181, 'ActiveSpaceTransformer': -202.096586322166}, {'nuclear_repulsion_energy': 35.719461737100005, 'ActiveSpaceTransformer': -199.7573592431154}, {'nuclear_repulsion_energy': 32.971810834246156, 'ActiveSpaceTransformer': -197.79326468980761}, {'nuclear_repulsion_energy': 30.616681488942863, 'ActiveSpaceTransformer': -196.12623990276532}, {'nuclear_repulsion_energy': 28.57556938968, 'ActiveSpaceTransformer': -194.69465678401616}, {'nuclear_repulsion_energy': 26.789596302824997, 'ActiveSpaceTransformer': -193.45079320607337}, {'nuclear_repulsion_energy': 25.213737696776473, 'ActiveSpaceTransformer': -192.35852941162437}, {'nuclear_repulsion_energy': 23.8129744914, 'ActiveSpaceTransformer': -191.39069276870836}, {'nuclear_repulsion_energy': 21.981207222830772, 'ActiveSpaceTransformer': -190.12815011325154}, {'nuclear_repulsion_energy': 20.41112099262857, 'ActiveSpaceTransformer': -189.04773382391056}, {'nuclear_repulsion_energy': 19.050379593120002, 'ActiveSpaceTransformer': -188.11179637701977}, {'nuclear_repulsion_energy': 17.859730868550002, 'ActiveSpaceTransformer': -187.29241326091665}, {'nuclear_repulsion_energy': 16.80915846451765, 'ActiveSpaceTransformer': -186.56853854347258}, {'nuclear_repulsion_energy': 15.875316327599997, 'ActiveSpaceTransformer': -185.9241226947416}, {'nuclear_repulsion_energy': 15.039773362989475, 'ActiveSpaceTransformer': -185.34673998513264}, {'nuclear_repulsion_energy': 14.28778469484, 'ActiveSpaceTransformer': -184.82656885388622}]\n"
     ]
    }
   ],
   "source": [
    "print(\"FCI energies:\", fci_energies)\n",
    "print(\"FCI core energies:\", fci_ecores)"
   ]
  },
  {
   "cell_type": "code",
   "execution_count": 5,
   "metadata": {},
   "outputs": [
    {
     "name": "stdout",
     "output_type": "stream",
     "text": [
      "FCI total energies: [-197.1258775739467, -197.5841029036503, -197.91523765633895, -198.15443140369234, -198.32726678859365, -198.45222713130963, -198.60758216798655, -198.68741633840932, -198.7267949934633, -198.74421036901248, -198.7496899775973, -198.7489007188604, -198.74514104972113, -198.74034114202874, -198.73343254328302, -198.7281880978031, -198.7248880869013, -198.7231872366366, -198.72254932133396, -198.7224911853184, -198.72268310619205, -198.7229453043483]\n"
     ]
    }
   ],
   "source": [
    "import matplotlib.pyplot as plt\n",
    "\n",
    "fci_total = []\n",
    "for i in range(len(fci_energies)):\n",
    "    # Extract core energies from dictionary\n",
    "    nuclear_repulsion = fci_ecores[i]['nuclear_repulsion_energy']\n",
    "    core_correction = fci_ecores[i]['ActiveSpaceTransformer']\n",
    "    # Add all contributions to get total energy\n",
    "    fci_energies_tot = fci_energies[i].real + nuclear_repulsion + core_correction\n",
    "    fci_total.append(fci_energies_tot)\n",
    "\n",
    "print(\"FCI total energies:\", fci_total)\n",
    "\n",
    "distance=[0.75,0.8,0.85, 0.9, 0.95, 1.0, 1.1, 1.2, 1.3, 1.4, 1.5, 1.6, 1.7, 1.8, 1.95, 2.1, 2.25, 2.4, 2.55,2.7, 2.85, 3.0]"
   ]
  },
  {
   "cell_type": "code",
   "execution_count": 6,
   "metadata": {},
   "outputs": [
    {
     "data": {
      "text/plain": [
       "[<matplotlib.lines.Line2D at 0x320fc2d30>]"
      ]
     },
     "execution_count": 6,
     "metadata": {},
     "output_type": "execute_result"
    },
    {
     "data": {
      "image/png": "[encoded data removed]",
      "text/plain": [
       "<Figure size 640x480 with 1 Axes>"
      ]
     },
     "metadata": {},
     "output_type": "display_data"
    }
   ],
   "source": [
    "plt.plot(distance, fci_total, marker='o', label='FCI Total Energy')"
   ]
  },
  {
   "cell_type": "code",
   "execution_count": null,
   "metadata": {},
   "outputs": [],
   "source": []
  }
 ],
 "metadata": {
  "kernelspec": {
   "display_name": ".venv",
   "language": "python",
   "name": "python3"
  },
  "language_info": {
   "codemirror_mode": {
    "name": "ipython",
    "version": 3
   },
   "file_extension": ".py",
   "mimetype": "text/x-python",
   "name": "python",
   "nbconvert_exporter": "python",
   "pygments_lexer": "ipython3",
   "version": "3.9.6"
  }
 },
 "nbformat": 4,
 "nbformat_minor": 2
}
